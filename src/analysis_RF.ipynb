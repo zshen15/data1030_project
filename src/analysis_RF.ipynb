{
 "cells": [
  {
   "cell_type": "code",
   "execution_count": 18,
   "metadata": {},
   "outputs": [],
   "source": [
    "import pandas as pd\n",
    "import numpy as np\n",
    "import time\n",
    "\n",
    "from sklearn.model_selection import train_test_split\n",
    "from sklearn.model_selection import StratifiedKFold\n",
    "\n",
    "from sklearn.linear_model import LogisticRegression\n",
    "from sklearn.ensemble import RandomForestClassifier\n",
    "from sklearn.svm import SVC\n",
    "\n",
    "from sklearn.metrics import accuracy_score\n",
    "from collections import defaultdict"
   ]
  },
  {
   "cell_type": "code",
   "execution_count": 19,
   "metadata": {},
   "outputs": [],
   "source": [
    "df = pd.read_csv('../data/News_pro.csv')\n",
    "df = df.drop(columns=['IDLink', 'Topic', 'Facebook','GooglePlus','LinkedIn'])\n",
    "df = df.drop(columns=['Facebook_pro','GooglePlus_pro','LinkedIn_pro'])\n",
    "\n",
    "df = df.set_index('BestPlat')\n",
    "df = df.drop([0,5], axis=0)\n",
    "df.reset_index(inplace=True)\n",
    "\n",
    "X = df.drop(columns=['BestPlat'],inplace=False)\n",
    "y = df['BestPlat']\n",
    "\n",
    "X = X.values \n",
    "y = y.values"
   ]
  },
  {
   "cell_type": "code",
   "execution_count": 11,
   "metadata": {},
   "outputs": [
    {
     "name": "stdout",
     "output_type": "stream",
     "text": [
      "best max_depths is  12\n",
      "best min sample splits is  0.05\n",
      "test Score: 0.67 +/- 0.0\n",
      "time: 240.16114354133606\n"
     ]
    }
   ],
   "source": [
    "def ML_pipeline_kfold_RF(X,y,random_state,n_folds=5):\n",
    "    X_other, X_test, y_other, y_test = train_test_split(X, y, test_size=0.2, random_state = random_state, stratify = y)\n",
    "    kf = StratifiedKFold(n_splits=n_folds, shuffle=True,random_state=random_state)\n",
    "\n",
    "    CV_scores = []\n",
    "    test_scores = []\n",
    "\n",
    "    for train_index, CV_index in kf.split(X_other,y_other):\n",
    "        X_train, X_CV = X_other[train_index], X_other[CV_index]\n",
    "        y_train, y_CV = y_other[train_index], y_other[CV_index]\n",
    "\n",
    "        # tune lasso hyper-parameter, alpha\n",
    "        max_depths = list(range(2,15,5))\n",
    "        min_samples_splits = [0.05, 0.1, 0.15, 0.2, 0.25]\n",
    "        train_score = defaultdict(lambda: 0)\n",
    "        CV_score = defaultdict(lambda: 0)\n",
    "        regs = defaultdict(lambda: RandomForestClassifier(n_estimators=100, max_depth=2, min_samples_split=2, random_state=4))\n",
    "        for i,depth in enumerate(max_depths):\n",
    "            for j,num_samp in enumerate(min_samples_splits):\n",
    "                reg = RandomForestClassifier(n_estimators=100, max_depth=depth, min_samples_split=num_samp, random_state=4)\n",
    "                reg.fit(X_train, y_train)\n",
    "                train_score[(i,j)] = accuracy_score(y_train, reg.predict(X_train))\n",
    "                CV_score[(i,j)] = accuracy_score(y_CV, reg.predict(X_CV))\n",
    "                regs[(i,j)] = reg\n",
    "        # find the best alpha in this fold\n",
    "        best_CV_combo = max(CV_score, key=CV_score.get)\n",
    "        best_max_depths = max_depths[best_CV_combo[0]]\n",
    "        best_min_samples_splits = min_samples_splits[best_CV_combo[1]]\n",
    "        # grab the best model\n",
    "        reg = regs[best_CV_combo]\n",
    "        CV_scores.append(np.max(CV_score))\n",
    "        # calculate test score using thee best model\n",
    "        test_scores.append(accuracy_score(y_test, reg.predict(X_test)))\n",
    "    \n",
    "    print(\"best max_depths is \", best_max_depths)\n",
    "    print(\"best min sample splits is \", best_min_samples_splits)\n",
    "    return CV_scores, test_scores\n",
    "\n",
    "s = time.time()\n",
    "test_scores = [] \n",
    "for i in range(1): \n",
    "    grid, test_score = ML_pipeline_kfold_RF(X,y,i * 610, 5) \n",
    "    test_scores.append(test_score)\n",
    "e = time.time()\n",
    "print('test Score:', np.around(np.mean(test_scores),2), \"+/-\", np.around(np.std(test_scores),2))\n",
    "t = e-s\n",
    "print('time:', t)"
   ]
  },
  {
   "cell_type": "code",
   "execution_count": 20,
   "metadata": {},
   "outputs": [
    {
     "name": "stdout",
     "output_type": "stream",
     "text": [
      "best max_depths is  5\n",
      "best min sample splits is  0.05\n",
      "best max_depths is  5\n",
      "best min sample splits is  0.05\n",
      "best max_depths is  8\n",
      "best min sample splits is  0.05\n",
      "test Score: 0.670651 +/- 0.000601\n",
      "time: 1116.4479389190674\n"
     ]
    }
   ],
   "source": [
    "def ML_pipeline_kfold_RF(X,y,random_state,n_folds=5):\n",
    "    X_other, X_test, y_other, y_test = train_test_split(X, y, test_size=0.2, random_state = random_state, stratify = y)\n",
    "    kf = StratifiedKFold(n_splits=n_folds, shuffle=True,random_state=random_state)\n",
    "\n",
    "    CV_scores = []\n",
    "    test_scores = []\n",
    "\n",
    "    for train_index, CV_index in kf.split(X_other,y_other):\n",
    "        X_train, X_CV = X_other[train_index], X_other[CV_index]\n",
    "        y_train, y_CV = y_other[train_index], y_other[CV_index]\n",
    "\n",
    "        # tune lasso hyper-parameter, alpha\n",
    "        max_depths = list(range(2,15,3))\n",
    "        min_samples_splits = [0.05, 0.1, 0.15, 0.2, 0.25]\n",
    "        train_score = defaultdict(lambda: 0)\n",
    "        CV_score = defaultdict(lambda: 0)\n",
    "        regs = defaultdict(lambda: RandomForestClassifier(n_estimators=100, max_depth=2, min_samples_split=2, random_state=4))\n",
    "        for i,depth in enumerate(max_depths):\n",
    "            for j,num_samp in enumerate(min_samples_splits):\n",
    "                reg = RandomForestClassifier(n_estimators=100, max_depth=depth, min_samples_split=num_samp, random_state=4)\n",
    "                reg.fit(X_train, y_train)\n",
    "                train_score[(i,j)] = accuracy_score(y_train, reg.predict(X_train))\n",
    "                CV_score[(i,j)] = accuracy_score(y_CV, reg.predict(X_CV))\n",
    "                regs[(i,j)] = reg\n",
    "        # find the best alpha in this fold\n",
    "        best_CV_combo = max(CV_score, key=CV_score.get)\n",
    "        best_max_depths = max_depths[best_CV_combo[0]]\n",
    "        best_min_samples_splits = min_samples_splits[best_CV_combo[1]]\n",
    "        # grab the best model\n",
    "        reg = regs[best_CV_combo]\n",
    "        CV_scores.append(np.max(CV_score))\n",
    "        # calculate test score using thee best model\n",
    "        test_scores.append(accuracy_score(y_test, reg.predict(X_test)))\n",
    "    \n",
    "    print(\"best max_depths is \", best_max_depths)\n",
    "    print(\"best min sample splits is \", best_min_samples_splits)\n",
    "    return CV_scores, test_scores\n",
    "\n",
    "s = time.time()\n",
    "test_scores = [] \n",
    "for i in range(3): \n",
    "    grid, test_score = ML_pipeline_kfold_RF(X,y,i * 610, 5) \n",
    "    test_scores.append(test_score)\n",
    "e = time.time()\n",
    "print('test Score:', np.around(np.mean(test_scores),6), \"+/-\", np.around(np.std(test_scores),6))\n",
    "t = e-s\n",
    "print('time:', t)"
   ]
  },
  {
   "cell_type": "code",
   "execution_count": 10,
   "metadata": {},
   "outputs": [],
   "source": [
    "# max_depths = 5\n",
    "# min_samples_splits = 5\n",
    "# i = 3"
   ]
  },
  {
   "cell_type": "code",
   "execution_count": null,
   "metadata": {},
   "outputs": [],
   "source": []
  }
 ],
 "metadata": {
  "kernelspec": {
   "display_name": "Python 3",
   "language": "python",
   "name": "python3"
  },
  "language_info": {
   "codemirror_mode": {
    "name": "ipython",
    "version": 3
   },
   "file_extension": ".py",
   "mimetype": "text/x-python",
   "name": "python",
   "nbconvert_exporter": "python",
   "pygments_lexer": "ipython3",
   "version": "3.7.3"
  }
 },
 "nbformat": 4,
 "nbformat_minor": 4
}
