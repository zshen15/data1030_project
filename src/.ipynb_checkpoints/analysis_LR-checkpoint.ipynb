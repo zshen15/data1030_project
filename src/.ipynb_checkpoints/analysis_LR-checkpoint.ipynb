{
 "cells": [
  {
   "cell_type": "code",
   "execution_count": 13,
   "metadata": {},
   "outputs": [],
   "source": [
    "import pandas as pd\n",
    "import numpy as np"
   ]
  },
  {
   "cell_type": "code",
   "execution_count": 42,
   "metadata": {},
   "outputs": [
    {
     "name": "stdout",
     "output_type": "stream",
     "text": [
      "    IDLink    Topic  PublishDate  SentimentTitle  SentimentHeadline  Facebook  \\\n",
      "0  99248.0    obama     0.000000        0.000000          -0.053300        -1   \n",
      "1  10423.0  economy     0.453492        0.208333          -0.156386        -1   \n",
      "\n",
      "   GooglePlus  LinkedIn  Facebook_pro  GooglePlus_pro  LinkedIn_pro  \\\n",
      "0          -1        -1           0.0             0.0           0.0   \n",
      "1          -1        -1           0.0             0.0           0.0   \n",
      "\n",
      "   x0_economy  x0_microsoft  x0_obama  x0_palestine  BestPlat  \n",
      "0         0.0           0.0       1.0           0.0         0  \n",
      "1         1.0           0.0       0.0           0.0         0  \n"
     ]
    }
   ],
   "source": [
    "df = pd.read_csv('../data/News_pro.csv')\n",
    "print(df.head(2))"
   ]
  },
  {
   "cell_type": "code",
   "execution_count": 43,
   "metadata": {},
   "outputs": [
    {
     "name": "stdout",
     "output_type": "stream",
     "text": [
      "   PublishDate  SentimentTitle  SentimentHeadline  x0_economy  x0_microsoft  \\\n",
      "0     0.000000        0.000000          -0.053300         0.0           0.0   \n",
      "1     0.453492        0.208333          -0.156386         1.0           0.0   \n",
      "2     0.688586       -0.425210           0.139754         1.0           0.0   \n",
      "3     0.905065        0.000000           0.026064         1.0           0.0   \n",
      "4     0.905066        0.000000           0.141084         1.0           0.0   \n",
      "5     0.905067       -0.075378           0.036773         0.0           1.0   \n",
      "6     0.975033        0.000000          -0.005906         0.0           0.0   \n",
      "7     0.905071        0.083333           0.103003         0.0           0.0   \n",
      "8     0.905075       -0.173925          -0.050185         0.0           0.0   \n",
      "9     0.905077       -0.059536          -0.081715         0.0           1.0   \n",
      "\n",
      "   x0_obama  x0_palestine  BestPlat  \n",
      "0       1.0           0.0         0  \n",
      "1       0.0           0.0         0  \n",
      "2       0.0           0.0         0  \n",
      "3       0.0           0.0         0  \n",
      "4       0.0           0.0         0  \n",
      "5       0.0           0.0         0  \n",
      "6       0.0           1.0         4  \n",
      "7       1.0           0.0         0  \n",
      "8       0.0           1.0         0  \n",
      "9       0.0           0.0         0  \n"
     ]
    }
   ],
   "source": [
    "# drop IDLink and Topic\n",
    "# drop Facebook GooglePlus and LinkedIn\n",
    "# maybe I can even drop _pro for they have been truned into BestPlat\n",
    "df = df.drop(columns=['IDLink', 'Topic', 'Facebook','GooglePlus','LinkedIn'])\n",
    "df = df.drop(columns=['Facebook_pro','GooglePlus_pro','LinkedIn_pro'])\n",
    "print(df.head(10))\n",
    "df_origin = df.copy()"
   ]
  },
  {
   "cell_type": "code",
   "execution_count": null,
   "metadata": {},
   "outputs": [],
   "source": [
    "# Thus, we have\n",
    "# x: PublishDate, SentimentTitle, SentimentHeadline, Topic(*4)\n",
    "# y: BestPlat"
   ]
  },
  {
   "cell_type": "code",
   "execution_count": 19,
   "metadata": {},
   "outputs": [
    {
     "name": "stdout",
     "output_type": "stream",
     "text": [
      "(93239, 8)\n",
      "PublishDate          0.0\n",
      "SentimentTitle       0.0\n",
      "SentimentHeadline    0.0\n",
      "x0_economy           0.0\n",
      "x0_microsoft         0.0\n",
      "x0_obama             0.0\n",
      "x0_palestine         0.0\n",
      "BestPlat             0.0\n",
      "dtype: float64\n",
      "0.0\n"
     ]
    }
   ],
   "source": [
    "df.replace(to_replace=' ?',value = np.nan, inplace=True)\n",
    "\n",
    "print(df.shape)\n",
    "print(df.isnull().sum(axis=0)/df.shape[0])\n",
    "print(sum(df.isnull().sum(axis=1)!=0)/df.shape[0])"
   ]
  },
  {
   "cell_type": "code",
   "execution_count": null,
   "metadata": {},
   "outputs": [],
   "source": [
    "# There is no missing value."
   ]
  },
  {
   "cell_type": "code",
   "execution_count": 20,
   "metadata": {},
   "outputs": [],
   "source": [
    "# Separate out the feature matrix (X) and the target variable (y).\n",
    "X = df.drop(columns=['BestPlat'],inplace=False)\n",
    "y = df['BestPlat']"
   ]
  },
  {
   "cell_type": "code",
   "execution_count": 25,
   "metadata": {},
   "outputs": [
    {
     "name": "stdout",
     "output_type": "stream",
     "text": [
      "1    53721\n",
      "4    14875\n",
      "3    12105\n",
      "0     5745\n",
      "5     4496\n",
      "2     2297\n",
      "Name: BestPlat, dtype: int64\n"
     ]
    }
   ],
   "source": [
    "print(y.value_counts())"
   ]
  },
  {
   "cell_type": "code",
   "execution_count": 30,
   "metadata": {},
   "outputs": [
    {
     "name": "stdout",
     "output_type": "stream",
     "text": [
      "1    0.576164\n",
      "4    0.159536\n",
      "3    0.129828\n",
      "0    0.061616\n",
      "5    0.048220\n",
      "2    0.024636\n",
      "Name: BestPlat, dtype: float64\n"
     ]
    }
   ],
   "source": [
    "# 0: if there are two or more -1, which means that the news is not posted in any of the platforms. (can be dropped)\n",
    "# 1: F\n",
    "# 2: G\n",
    "# 3: L\n",
    "# 4: if the news has been posted on all three platform but all three platforms has zero popularity. (indifference)\n",
    "# 5: all the other samples, f = g > l etc. (can be dropped)\n",
    "\n",
    "per = y.value_counts()/y.shape\n",
    "print(per)"
   ]
  },
  {
   "cell_type": "code",
   "execution_count": 44,
   "metadata": {},
   "outputs": [
    {
     "name": "stdout",
     "output_type": "stream",
     "text": [
      "1    0.647257\n",
      "4    0.179221\n",
      "3    0.145847\n",
      "2    0.027675\n",
      "Name: BestPlat, dtype: float64\n"
     ]
    }
   ],
   "source": [
    "# drop the rows when BestPlat = 0 or 5 (the percentage is not very high so we can do this.)\n",
    "df = df.set_index('BestPlat')\n",
    "df = df.drop([0,5], axis=0)\n",
    "df.reset_index(inplace=True)\n",
    "\n",
    "# generate new X and y\n",
    "X = df.drop(columns=['BestPlat'],inplace=False)\n",
    "y = df['BestPlat']\n",
    "per = y.value_counts()/y.shape\n",
    "print(per)\n",
    "\n",
    "# 1: F\n",
    "# 2: G\n",
    "# 3: L\n",
    "# 4: indifference"
   ]
  },
  {
   "cell_type": "code",
   "execution_count": null,
   "metadata": {},
   "outputs": [],
   "source": []
  }
 ],
 "metadata": {
  "kernelspec": {
   "display_name": "Python 3",
   "language": "python",
   "name": "python3"
  },
  "language_info": {
   "codemirror_mode": {
    "name": "ipython",
    "version": 3
   },
   "file_extension": ".py",
   "mimetype": "text/x-python",
   "name": "python",
   "nbconvert_exporter": "python",
   "pygments_lexer": "ipython3",
   "version": "3.7.3"
  }
 },
 "nbformat": 4,
 "nbformat_minor": 4
}
