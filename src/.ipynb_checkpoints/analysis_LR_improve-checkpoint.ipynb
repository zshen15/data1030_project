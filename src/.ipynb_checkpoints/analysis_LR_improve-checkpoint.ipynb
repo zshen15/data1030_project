{
 "cells": [
  {
   "cell_type": "code",
   "execution_count": 12,
   "metadata": {},
   "outputs": [],
   "source": [
    "import pandas as pd\n",
    "import numpy as np\n",
    "import time\n",
    "\n",
    "from sklearn.model_selection import train_test_split\n",
    "from sklearn.model_selection import StratifiedKFold\n",
    "\n",
    "from sklearn.linear_model import LogisticRegression\n",
    "from sklearn.ensemble import RandomForestClassifier\n",
    "from sklearn.svm import SVC\n",
    "\n",
    "from sklearn.metrics import accuracy_score\n",
    "from collections import defaultdict"
   ]
  },
  {
   "cell_type": "code",
   "execution_count": 13,
   "metadata": {},
   "outputs": [],
   "source": [
    "df = pd.read_csv('../data/News_pro.csv')\n",
    "df = df.drop(columns=['IDLink', 'Topic', 'Facebook','GooglePlus','LinkedIn'])\n",
    "df = df.drop(columns=['Facebook_pro','GooglePlus_pro','LinkedIn_pro'])\n",
    "\n",
    "df = df.set_index('BestPlat')\n",
    "df = df.drop([0,5], axis=0)\n",
    "df.reset_index(inplace=True)\n",
    "\n",
    "X = df.drop(columns=['BestPlat'],inplace=False)\n",
    "y = df['BestPlat']\n",
    "\n",
    "X = X.values \n",
    "y = y.values"
   ]
  },
  {
   "cell_type": "code",
   "execution_count": 16,
   "metadata": {},
   "outputs": [
    {
     "name": "stdout",
     "output_type": "stream",
     "text": [
      "n_folds=5,alpha = np.logspace(-5,5,10), i in range(3) l1\n",
      "best alpha is  3.593813663804626\n",
      "l1\n",
      "best alpha is  0.2782559402207126\n",
      "l1\n",
      "best alpha is  3.593813663804626\n",
      "l1\n",
      "time: 688.4462966918945\n",
      "test Score: 0.656474 +/- 0.000838\n",
      "n_folds=5,alpha = np.logspace(-5,5,10), i in range(3) l2\n",
      "best alpha is  0.2782559402207126\n",
      "l2\n",
      "best alpha is  0.021544346900318846\n",
      "l2\n",
      "best alpha is  0.2782559402207126\n",
      "l2\n",
      "time: 688.17427277565\n",
      "test Score: 0.656382 +/- 0.000763\n"
     ]
    }
   ],
   "source": [
    "def ML_pipeline_kfold_LR(X,y,random_state,n_folds=5,l='l2'):\n",
    "    X_other, X_test, y_other, y_test = train_test_split(X, y, test_size=0.2, random_state = random_state, stratify = y)\n",
    "    kf = StratifiedKFold(n_splits=n_folds, shuffle=True,random_state=random_state)\n",
    "\n",
    "    CV_scores = []\n",
    "    test_scores = []\n",
    "\n",
    "    for train_index, CV_index in kf.split(X_other,y_other):\n",
    "        X_train, X_CV = X_other[train_index], X_other[CV_index]\n",
    "        y_train, y_CV = y_other[train_index], y_other[CV_index]\n",
    "\n",
    "        # tune lasso hyper-parameter, alpha\n",
    "        alpha = np.logspace(-5,5,10)\n",
    "        train_score = []\n",
    "        CV_score = []\n",
    "        regs = []\n",
    "        for a in alpha:\n",
    "            # print(\"a\",a)\n",
    "            reg = LogisticRegression(penalty=l, C=1/a, solver=\"saga\", max_iter=10000, multi_class=\"multinomial\")\n",
    "            reg.fit(X_train, y_train)\n",
    "            train_score.append(accuracy_score(y_train, reg.predict(X_train)))\n",
    "            CV_score.append(accuracy_score(y_CV, reg.predict(X_CV)))\n",
    "            regs.append(reg)\n",
    "            # print('end')\n",
    "        # find the best alpha in this fold\n",
    "        best_alpha = alpha[np.argmax(CV_score)]\n",
    "        # grab the best model\n",
    "        reg = regs[np.argmax(CV_score)]\n",
    "        CV_scores.append(np.max(CV_score))\n",
    "        # calculate test score using thee best model\n",
    "        test_scores.append(accuracy_score(y_test, reg.predict(X_test)))\n",
    "        \n",
    "    print(\"best alpha is \", best_alpha)\n",
    "    return CV_scores, test_scores\n",
    "\n",
    "for l in ['l1','l2']:\n",
    "    print(\"n_folds=5,alpha = np.logspace(-5,5,10), i in range(3)\",l)\n",
    "    s = time.time()\n",
    "    test_scores = [] \n",
    "    for i in range(3): \n",
    "        grid, test_score = ML_pipeline_kfold_LR(X,y,i * 610, 5, l) \n",
    "        print(l)\n",
    "        test_scores.append(test_score) \n",
    "    e = time.time()\n",
    "    t = e-s\n",
    "    print('time:', t)\n",
    "    print('test Score:', np.around(np.mean(test_scores),6), \"+/-\", np.around(np.std(test_scores),6)) "
   ]
  },
  {
   "cell_type": "code",
   "execution_count": null,
   "metadata": {},
   "outputs": [],
   "source": []
  }
 ],
 "metadata": {
  "kernelspec": {
   "display_name": "Python 3",
   "language": "python",
   "name": "python3"
  },
  "language_info": {
   "codemirror_mode": {
    "name": "ipython",
    "version": 3
   },
   "file_extension": ".py",
   "mimetype": "text/x-python",
   "name": "python",
   "nbconvert_exporter": "python",
   "pygments_lexer": "ipython3",
   "version": "3.7.3"
  }
 },
 "nbformat": 4,
 "nbformat_minor": 4
}
