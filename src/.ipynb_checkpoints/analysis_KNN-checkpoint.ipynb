{
 "cells": [
  {
   "cell_type": "code",
   "execution_count": 1,
   "metadata": {},
   "outputs": [],
   "source": [
    "import pandas as pd\n",
    "import numpy as np\n",
    "import time\n",
    "\n",
    "from sklearn.model_selection import train_test_split\n",
    "from sklearn.model_selection import StratifiedKFold\n",
    "\n",
    "from sklearn.linear_model import LogisticRegression\n",
    "from sklearn.ensemble import RandomForestClassifier\n",
    "from sklearn.neighbors import KNeighborsClassifier\n",
    "from sklearn.svm import SVC\n",
    "\n",
    "from sklearn.metrics import accuracy_score\n",
    "from collections import defaultdict"
   ]
  },
  {
   "cell_type": "code",
   "execution_count": 2,
   "metadata": {},
   "outputs": [],
   "source": [
    "df = pd.read_csv('../data/News_pro.csv')\n",
    "df = df.drop(columns=['IDLink', 'Topic', 'Facebook','GooglePlus','LinkedIn'])\n",
    "df = df.drop(columns=['Facebook_pro','GooglePlus_pro','LinkedIn_pro'])\n",
    "\n",
    "df = df.set_index('BestPlat')\n",
    "df = df.drop([0,5], axis=0)\n",
    "df.reset_index(inplace=True)\n",
    "\n",
    "X = df.drop(columns=['BestPlat'],inplace=False)\n",
    "y = df['BestPlat']\n",
    "\n",
    "X = X.values \n",
    "y = y.values"
   ]
  },
  {
   "cell_type": "code",
   "execution_count": 3,
   "metadata": {},
   "outputs": [
    {
     "name": "stdout",
     "output_type": "stream",
     "text": [
      "best n is  300\n",
      "best n is  100\n",
      "best n is  300\n",
      "test Score: 0.66 +/- 0.0\n",
      "time: 483.8216178417206\n"
     ]
    }
   ],
   "source": [
    "def ML_pipeline_kfold_KNN(X,y,random_state,n_folds=5):\n",
    "    X_other, X_test, y_other, y_test = train_test_split(X, y, test_size=0.2, random_state = random_state, stratify = y)\n",
    "    kf = StratifiedKFold(n_splits=n_folds, shuffle=True,random_state=random_state)\n",
    "\n",
    "    CV_scores = []\n",
    "    test_scores = []\n",
    "\n",
    "    for train_index, CV_index in kf.split(X_other,y_other):\n",
    "        X_train, X_CV = X_other[train_index], X_other[CV_index]\n",
    "        y_train, y_CV = y_other[train_index], y_other[CV_index]\n",
    "\n",
    "        # tune lasso hyper-parameter, alpha\n",
    "        kn = [1,10,30,100,300]\n",
    "        # kn = [1]\n",
    "        train_score = []\n",
    "        CV_score = []\n",
    "        regs = []\n",
    "        for n in kn:\n",
    "            # print(\"a\",a)\n",
    "            reg = KNeighborsClassifier(n_neighbors=n,weights=\"distance\")\n",
    "            reg.fit(X_train, y_train)\n",
    "            train_score.append(accuracy_score(y_train, reg.predict(X_train)))\n",
    "            CV_score.append(accuracy_score(y_CV, reg.predict(X_CV)))\n",
    "            regs.append(reg)\n",
    "            # print('end')\n",
    "        # find the best alpha in this fold\n",
    "        best_kn = kn[np.argmax(CV_score)]\n",
    "        # grab the best model\n",
    "        reg = regs[np.argmax(CV_score)]\n",
    "        CV_scores.append(np.max(CV_score))\n",
    "        # calculate test score using thee best model\n",
    "        test_scores.append(accuracy_score(y_test, reg.predict(X_test)))\n",
    "        \n",
    "    print(\"best n is \", best_kn)\n",
    "    return CV_scores, test_scores\n",
    "\n",
    "s = time.time()\n",
    "test_scores = [] \n",
    "for i in range(3): \n",
    "    grid, test_score = ML_pipeline_kfold_KNN(X,y,i * 610, 5) \n",
    "    test_scores.append(test_score)\n",
    "e = time.time()\n",
    "print('test Score:', np.around(np.mean(test_scores),2), \"+/-\", np.around(np.std(test_scores),2))\n",
    "t = e-s\n",
    "print('time:', t)"
   ]
  },
  {
   "cell_type": "code",
   "execution_count": 10,
   "metadata": {},
   "outputs": [
    {
     "name": "stdout",
     "output_type": "stream",
     "text": [
      "[[0.6587951807228916, 0.6581325301204819, 0.6589156626506024, 0.6613855421686747, 0.658433734939759]]\n"
     ]
    }
   ],
   "source": [
    "print(test_scores)"
   ]
  },
  {
   "cell_type": "code",
   "execution_count": 8,
   "metadata": {},
   "outputs": [
    {
     "name": "stdout",
     "output_type": "stream",
     "text": [
      "best n is  300\n",
      "best n is  100\n",
      "best n is  300\n",
      "test Score: 0.66 +/- 0.0\n",
      "time: 807.236695766449\n"
     ]
    }
   ],
   "source": [
    "def ML_pipeline_kfold_KNN(X,y,random_state,n_folds=5):\n",
    "    X_other, X_test, y_other, y_test = train_test_split(X, y, test_size=0.2, random_state = random_state, stratify = y)\n",
    "    kf = StratifiedKFold(n_splits=n_folds, shuffle=True,random_state=random_state)\n",
    "\n",
    "    CV_scores = []\n",
    "    test_scores = []\n",
    "\n",
    "    for train_index, CV_index in kf.split(X_other,y_other):\n",
    "        X_train, X_CV = X_other[train_index], X_other[CV_index]\n",
    "        y_train, y_CV = y_other[train_index], y_other[CV_index]\n",
    "\n",
    "        # tune lasso hyper-parameter, alpha\n",
    "        kn = [1,10,30,100,300,500]\n",
    "        # kn = [1]\n",
    "        train_score = []\n",
    "        CV_score = []\n",
    "        regs = []\n",
    "        for n in kn:\n",
    "            # print(\"a\",a)\n",
    "            reg = KNeighborsClassifier(n_neighbors=n,weights=\"distance\")\n",
    "            reg.fit(X_train, y_train)\n",
    "            train_score.append(accuracy_score(y_train, reg.predict(X_train)))\n",
    "            CV_score.append(accuracy_score(y_CV, reg.predict(X_CV)))\n",
    "            regs.append(reg)\n",
    "            # print('end')\n",
    "        # find the best alpha in this fold\n",
    "        best_kn = kn[np.argmax(CV_score)]\n",
    "        # grab the best model\n",
    "        reg = regs[np.argmax(CV_score)]\n",
    "        CV_scores.append(np.max(CV_score))\n",
    "        # calculate test score using thee best model\n",
    "        test_scores.append(accuracy_score(y_test, reg.predict(X_test)))\n",
    "        \n",
    "    print(\"best n is \", best_kn)\n",
    "    return CV_scores, test_scores\n",
    "\n",
    "s = time.time()\n",
    "test_scores = [] \n",
    "for i in range(3): \n",
    "    grid, test_score = ML_pipeline_kfold_KNN(X,y,i * 610, 5) \n",
    "    test_scores.append(test_score)\n",
    "e = time.time()\n",
    "print('test Score:', np.around(np.mean(test_scores),2), \"+/-\", np.around(np.std(test_scores),2))\n",
    "t = e-s\n",
    "print('time:', t)"
   ]
  },
  {
   "cell_type": "code",
   "execution_count": 9,
   "metadata": {},
   "outputs": [
    {
     "data": {
      "text/plain": [
       "0.6594939759036145"
      ]
     },
     "execution_count": 9,
     "metadata": {},
     "output_type": "execute_result"
    }
   ],
   "source": [
    "np.mean(test_scores)"
   ]
  },
  {
   "cell_type": "code",
   "execution_count": 10,
   "metadata": {},
   "outputs": [
    {
     "data": {
      "text/plain": [
       "0.0010361445783132594"
      ]
     },
     "execution_count": 10,
     "metadata": {},
     "output_type": "execute_result"
    }
   ],
   "source": [
    "np.std(test_scores)"
   ]
  },
  {
   "cell_type": "code",
   "execution_count": 11,
   "metadata": {},
   "outputs": [
    {
     "name": "stdout",
     "output_type": "stream",
     "text": [
      "best n is  100\n",
      "best n is  100\n",
      "best n is  300\n",
      "test Score: 0.65 +/- 0.0\n",
      "time: 885.0608017444611\n"
     ]
    }
   ],
   "source": [
    "def ML_pipeline_kfold_KNN(X,y,random_state,n_folds=5):\n",
    "    X_other, X_test, y_other, y_test = train_test_split(X, y, test_size=0.2, random_state = random_state, stratify = y)\n",
    "    kf = StratifiedKFold(n_splits=n_folds, shuffle=True,random_state=random_state)\n",
    "\n",
    "    CV_scores = []\n",
    "    test_scores = []\n",
    "\n",
    "    for train_index, CV_index in kf.split(X_other,y_other):\n",
    "        X_train, X_CV = X_other[train_index], X_other[CV_index]\n",
    "        y_train, y_CV = y_other[train_index], y_other[CV_index]\n",
    "\n",
    "        # tune lasso hyper-parameter, alpha\n",
    "        kn = [1,10,30,100,300,500]\n",
    "        # kn = [1]\n",
    "        train_score = []\n",
    "        CV_score = []\n",
    "        regs = []\n",
    "        for n in kn:\n",
    "            # print(\"a\",a)\n",
    "            reg = KNeighborsClassifier(n_neighbors=n,weights=\"uniform\")\n",
    "            reg.fit(X_train, y_train)\n",
    "            train_score.append(accuracy_score(y_train, reg.predict(X_train)))\n",
    "            CV_score.append(accuracy_score(y_CV, reg.predict(X_CV)))\n",
    "            regs.append(reg)\n",
    "            # print('end')\n",
    "        # find the best alpha in this fold\n",
    "        best_kn = kn[np.argmax(CV_score)]\n",
    "        # grab the best model\n",
    "        reg = regs[np.argmax(CV_score)]\n",
    "        CV_scores.append(np.max(CV_score))\n",
    "        # calculate test score using thee best model\n",
    "        test_scores.append(accuracy_score(y_test, reg.predict(X_test)))\n",
    "        \n",
    "    print(\"best n is \", best_kn)\n",
    "    return CV_scores, test_scores\n",
    "\n",
    "s = time.time()\n",
    "test_scores = [] \n",
    "for i in range(3): \n",
    "    grid, test_score = ML_pipeline_kfold_KNN(X,y,i * 610, 5) \n",
    "    test_scores.append(test_score)\n",
    "e = time.time()\n",
    "print('test Score:', np.around(np.mean(test_scores),2), \"+/-\", np.around(np.std(test_scores),2))\n",
    "t = e-s\n",
    "print('time:', t)"
   ]
  },
  {
   "cell_type": "code",
   "execution_count": 12,
   "metadata": {},
   "outputs": [
    {
     "data": {
      "text/plain": [
       "0.6477791164658634"
      ]
     },
     "execution_count": 12,
     "metadata": {},
     "output_type": "execute_result"
    }
   ],
   "source": [
    "np.mean(test_scores)"
   ]
  },
  {
   "cell_type": "code",
   "execution_count": null,
   "metadata": {},
   "outputs": [],
   "source": []
  }
 ],
 "metadata": {
  "kernelspec": {
   "display_name": "Python 3",
   "language": "python",
   "name": "python3"
  },
  "language_info": {
   "codemirror_mode": {
    "name": "ipython",
    "version": 3
   },
   "file_extension": ".py",
   "mimetype": "text/x-python",
   "name": "python",
   "nbconvert_exporter": "python",
   "pygments_lexer": "ipython3",
   "version": "3.7.3"
  }
 },
 "nbformat": 4,
 "nbformat_minor": 4
}
