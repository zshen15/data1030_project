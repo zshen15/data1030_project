{
 "cells": [
  {
   "cell_type": "code",
   "execution_count": 1,
   "metadata": {},
   "outputs": [],
   "source": [
    "import pandas as pd\n",
    "import numpy as np\n",
    "import time\n",
    "from datetime import datetime\n",
    "\n",
    "from sklearn.model_selection import train_test_split\n",
    "from sklearn.model_selection import StratifiedKFold\n",
    "\n",
    "from sklearn.linear_model import LogisticRegression\n",
    "from sklearn.ensemble import RandomForestClassifier\n",
    "from sklearn.svm import SVC\n",
    "\n",
    "from sklearn.metrics import accuracy_score\n",
    "from collections import defaultdict\n",
    "\n",
    "from sklearn.preprocessing import OneHotEncoder\n",
    "from sklearn.preprocessing import MinMaxScaler\n",
    "from sklearn.preprocessing import StandardScaler"
   ]
  },
  {
   "cell_type": "code",
   "execution_count": 2,
   "metadata": {},
   "outputs": [
    {
     "name": "stdout",
     "output_type": "stream",
     "text": [
      "   BestPlat  PublishDate  SentimentTitle  SentimentHeadline  x0_economy  \\\n",
      "0         4     0.975033        0.000000          -0.005906         0.0   \n",
      "1         4     0.975381        0.000000           0.048546         0.0   \n",
      "2         4     0.975307       -0.243068           0.048546         0.0   \n",
      "3         4     0.953470        0.000000          -0.132812         0.0   \n",
      "4         4     0.953472       -0.082022           0.205537         1.0   \n",
      "\n",
      "   x0_microsoft  x0_obama  x0_palestine  PublishDate_Square  \\\n",
      "0           0.0       0.0           1.0            0.950690   \n",
      "1           0.0       0.0           1.0            0.951368   \n",
      "2           0.0       0.0           1.0            0.951224   \n",
      "3           1.0       0.0           0.0            0.909105   \n",
      "4           0.0       0.0           0.0            0.909109   \n",
      "\n",
      "   SentimentTitle_Square  SentimentHeadline_Square  \n",
      "0               0.000000                  0.000035  \n",
      "1               0.000000                  0.002357  \n",
      "2               0.059082                  0.002357  \n",
      "3               0.000000                  0.017639  \n",
      "4               0.006728                  0.042246  \n"
     ]
    }
   ],
   "source": [
    "df = pd.read_csv('../data/News_pro.csv')\n",
    "df = df.drop(columns=['IDLink', 'Topic', 'Facebook','GooglePlus','LinkedIn'])\n",
    "df = df.drop(columns=['Facebook_pro','GooglePlus_pro','LinkedIn_pro'])\n",
    "\n",
    "df = df.set_index('BestPlat')\n",
    "df = df.drop([0,5], axis=0)\n",
    "df.reset_index(inplace=True)\n",
    "\n",
    "df['PublishDate_Square']=df['PublishDate']**2\n",
    "df['SentimentTitle_Square']=df['SentimentTitle']**2\n",
    "df['SentimentHeadline_Square']=df['SentimentHeadline']**2\n",
    "\n",
    "print(df.head())"
   ]
  },
  {
   "cell_type": "code",
   "execution_count": 3,
   "metadata": {},
   "outputs": [],
   "source": [
    "X = df.drop(columns=['BestPlat'],inplace=False)\n",
    "y = df['BestPlat']\n",
    "\n",
    "X = X.values \n",
    "y = y.values"
   ]
  },
  {
   "cell_type": "code",
   "execution_count": 3,
   "metadata": {},
   "outputs": [
    {
     "name": "stdout",
     "output_type": "stream",
     "text": [
      "[1.e-05]\n"
     ]
    }
   ],
   "source": [
    "a = np.logspace(-5,5,1)\n",
    "print(a)"
   ]
  },
  {
   "cell_type": "code",
   "execution_count": null,
   "metadata": {},
   "outputs": [
    {
     "name": "stdout",
     "output_type": "stream",
     "text": [
      "n_folds=3,alpha = np.logspace(-5,5,3), i in range(1) l1\n",
      "1\n",
      "a 1e-05\n",
      "2\n",
      "a 1e-05\n",
      "3\n",
      "a 1e-05\n",
      "4\n",
      "a 1e-05\n",
      "5\n",
      "a 1e-05\n",
      "best alpha is  1e-05\n",
      "l1\n",
      "time: 2599.1945667266846\n",
      "test Score: 0.654663 +/- 0.000471\n",
      "n_folds=3,alpha = np.logspace(-5,5,3), i in range(1) l2\n",
      "1\n",
      "a 1e-05\n"
     ]
    }
   ],
   "source": [
    "def ML_pipeline_kfold_LR(X,y,random_state,n_folds=5,l='l2'):\n",
    "    X_other, X_test, y_other, y_test = train_test_split(X, y, test_size=0.2, random_state = random_state, stratify = y)\n",
    "    kf = StratifiedKFold(n_splits=n_folds, shuffle=True,random_state=random_state)\n",
    "\n",
    "    CV_scores = []\n",
    "    test_scores = []\n",
    "    \n",
    "    i = 0\n",
    "\n",
    "    for train_index, CV_index in kf.split(X_other,y_other):\n",
    "        i += 1\n",
    "        print(i)\n",
    "        \n",
    "        X_train, X_CV = X_other[train_index], X_other[CV_index]\n",
    "        y_train, y_CV = y_other[train_index], y_other[CV_index]\n",
    "\n",
    "        # tune lasso hyper-parameter, alpha\n",
    "        alpha = np.logspace(-5,5,1)\n",
    "        train_score = []\n",
    "        CV_score = []\n",
    "        regs = []\n",
    "        for a in alpha:\n",
    "            print(\"a\",a)\n",
    "            reg = LogisticRegression(penalty=l, C=1/a, solver=\"saga\", max_iter=10000, multi_class=\"multinomial\")\n",
    "            reg.fit(X_train, y_train)\n",
    "            train_score.append(accuracy_score(y_train, reg.predict(X_train)))\n",
    "            CV_score.append(accuracy_score(y_CV, reg.predict(X_CV)))\n",
    "            regs.append(reg)\n",
    "            # print('end')\n",
    "        # find the best alpha in this fold\n",
    "        best_alpha = alpha[np.argmax(CV_score)]\n",
    "        # grab the best model\n",
    "        reg = regs[np.argmax(CV_score)]\n",
    "        CV_scores.append(np.max(CV_score))\n",
    "        # calculate test score using thee best model\n",
    "        test_scores.append(accuracy_score(y_test, reg.predict(X_test)))\n",
    "        \n",
    "    print(\"best alpha is \", best_alpha)\n",
    "    return CV_scores, test_scores\n",
    "\n",
    "for l in ['l1','l2']:\n",
    "    print(\"n_folds=3,alpha = np.logspace(-5,5,3), i in range(1)\",l)\n",
    "    s = time.time()\n",
    "    test_scores = [] \n",
    "    for i in range(1): \n",
    "        grid, test_score = ML_pipeline_kfold_LR(X,y,i * 610, 5, l) \n",
    "        print(l)\n",
    "        test_scores.append(test_score) \n",
    "    e = time.time()\n",
    "    t = e-s\n",
    "    print('time:', t)\n",
    "    print('test Score:', np.around(np.mean(test_scores),6), \"+/-\", np.around(np.std(test_scores),6)) "
   ]
  },
  {
   "cell_type": "code",
   "execution_count": null,
   "metadata": {},
   "outputs": [],
   "source": []
  }
 ],
 "metadata": {
  "kernelspec": {
   "display_name": "Python 3",
   "language": "python",
   "name": "python3"
  },
  "language_info": {
   "codemirror_mode": {
    "name": "ipython",
    "version": 3
   },
   "file_extension": ".py",
   "mimetype": "text/x-python",
   "name": "python",
   "nbconvert_exporter": "python",
   "pygments_lexer": "ipython3",
   "version": "3.7.3"
  }
 },
 "nbformat": 4,
 "nbformat_minor": 4
}
