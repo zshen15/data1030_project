{
 "cells": [
  {
   "cell_type": "markdown",
   "metadata": {},
   "source": [
    "**Preprocess the data**"
   ]
  },
  {
   "cell_type": "code",
   "execution_count": 1,
   "metadata": {},
   "outputs": [
    {
     "name": "stdout",
     "output_type": "stream",
     "text": [
      "(93239, 11)\n"
     ]
    }
   ],
   "source": [
    "import pandas as pd\n",
    "from datetime import datetime\n",
    "import time\n",
    "\n",
    "# data1030-student-f19/data1030_project/data/News_Final.csv\n",
    "df = pd.read_csv('../data/News_Final.csv')\n",
    "print(df.shape)"
   ]
  },
  {
   "cell_type": "code",
   "execution_count": 2,
   "metadata": {},
   "outputs": [
    {
     "name": "stdout",
     "output_type": "stream",
     "text": [
      "    IDLink    Topic          PublishDate  SentimentTitle  SentimentHeadline  \\\n",
      "0  99248.0    obama  2002-04-02 00:00:00        0.000000          -0.053300   \n",
      "1  10423.0  economy  2008-09-20 00:00:00        0.208333          -0.156386   \n",
      "\n",
      "   Facebook  GooglePlus  LinkedIn  \n",
      "0        -1          -1        -1  \n",
      "1        -1          -1        -1  \n"
     ]
    }
   ],
   "source": [
    "df = df.drop(columns=['Title', 'Headline', 'Source'])\n",
    "print(df.head(2))"
   ]
  },
  {
   "cell_type": "code",
   "execution_count": 3,
   "metadata": {},
   "outputs": [],
   "source": [
    "from sklearn.preprocessing import MinMaxScaler\n",
    "\n",
    "# change to unix time\n",
    "df_time = df['PublishDate']\n",
    "x = df_time.values\n",
    "unixTime = [time.mktime(pd.Timestamp(y).timetuple()) for y in x]\n",
    "df['PublishDate'] = unixTime\n",
    "\n",
    "# minmaxscaler\n",
    "df_time = df[['PublishDate']]\n",
    "\n",
    "scaler = MinMaxScaler()\n",
    "scaler.fit(df_time)\n",
    "df_time_maxmin = scaler.transform(df_time)\n",
    "df['PublishDate'] = df_time_maxmin"
   ]
  },
  {
   "cell_type": "code",
   "execution_count": 4,
   "metadata": {},
   "outputs": [],
   "source": [
    "df_plat = df[['Facebook','GooglePlus','LinkedIn']]\n",
    "\n",
    "scaler = MinMaxScaler()\n",
    "scaler.fit(df_plat)\n",
    "df_plat_maxmin = scaler.transform(df_plat)\n",
    "\n",
    "platName = [x+str('_pro') for x in ['Facebook','GooglePlus','LinkedIn']]\n",
    "\n",
    "for i in range(len(platName)):\n",
    "    df[platName[i]] = df_plat_maxmin[:,i]"
   ]
  },
  {
   "cell_type": "code",
   "execution_count": 5,
   "metadata": {},
   "outputs": [
    {
     "name": "stdout",
     "output_type": "stream",
     "text": [
      "feature names: ['x0_economy' 'x0_microsoft' 'x0_obama' 'x0_palestine']\n",
      "[[0. 0. 1. 0.]\n",
      " [1. 0. 0. 0.]\n",
      " [1. 0. 0. 0.]\n",
      " ...\n",
      " [0. 0. 0. 1.]\n",
      " [0. 0. 0. 1.]\n",
      " [0. 1. 0. 0.]]\n",
      "[0. 1. 1. ... 0. 0. 0.]\n"
     ]
    }
   ],
   "source": [
    "from sklearn.preprocessing import OneHotEncoder\n",
    "df_topic = df[['Topic']]\n",
    "#print(df_topic)\n",
    "\n",
    "enc = OneHotEncoder(sparse=False) \n",
    "enc.fit(df_topic)\n",
    "#print('categories:',enc.categories_)\n",
    "\n",
    "enc_label = enc.get_feature_names()\n",
    "print('feature names:',enc_label)\n",
    "df_topic_ohe = enc.transform(df_topic)\n",
    "print(df_topic_ohe)\n",
    "\n",
    "print(df_topic_ohe[:,0])"
   ]
  },
  {
   "cell_type": "code",
   "execution_count": 6,
   "metadata": {},
   "outputs": [],
   "source": [
    "for i in range(len(enc_label)):\n",
    "    df[enc_label[i]] = df_topic_ohe[:,i]"
   ]
  },
  {
   "cell_type": "code",
   "execution_count": 7,
   "metadata": {},
   "outputs": [],
   "source": [
    "# target var.\n",
    "# if there are two or more -1:\n",
    "# target = 0\n",
    "# else, target = the platform with the highest popularity:\n",
    "# F = 1; G = 2; L = 3\n",
    "# if the news has been posted on all three platform but all three platforms has zero popularity:\n",
    "# target = 4\n",
    "# all the other samples, f = g > l etc.:\n",
    "# target = 5\n",
    "\n",
    "t = []\n",
    "for i in range(df.shape[0]):\n",
    "    f = df['Facebook'].values[i]\n",
    "    g = df['GooglePlus'].values[i]\n",
    "    l = df['LinkedIn'].values[i]\n",
    "    if sum([(f == -1), (g == -1), (l == -1)]) > 1:\n",
    "        t.append(0) # 5745\n",
    "    elif f > g and f > l:\n",
    "        t.append(1) # 53721\n",
    "    elif g > f and g > l:\n",
    "        t.append(2) # 2297\n",
    "    elif l > f and l > g:\n",
    "        t.append(3) # 12105\n",
    "    elif f == 0 and f == g and g == l:\n",
    "        t.append(4) # 14875\n",
    "    else:\n",
    "        t.append(5) # 4496\n",
    "df['BestPlat'] = t"
   ]
  },
  {
   "cell_type": "code",
   "execution_count": 9,
   "metadata": {},
   "outputs": [
    {
     "data": {
      "text/plain": [
       "(93239, 16)"
      ]
     },
     "execution_count": 9,
     "metadata": {},
     "output_type": "execute_result"
    }
   ],
   "source": [
    "df.shape"
   ]
  },
  {
   "cell_type": "code",
   "execution_count": 17,
   "metadata": {},
   "outputs": [],
   "source": [
    "export_csv = df.to_csv ('../data/News_pro.csv', index = None, header=True) "
   ]
  },
  {
   "cell_type": "code",
   "execution_count": null,
   "metadata": {},
   "outputs": [],
   "source": []
  }
 ],
 "metadata": {
  "kernelspec": {
   "display_name": "Python 3",
   "language": "python",
   "name": "python3"
  },
  "language_info": {
   "codemirror_mode": {
    "name": "ipython",
    "version": 3
   },
   "file_extension": ".py",
   "mimetype": "text/x-python",
   "name": "python",
   "nbconvert_exporter": "python",
   "pygments_lexer": "ipython3",
   "version": "3.7.3"
  }
 },
 "nbformat": 4,
 "nbformat_minor": 4
}
