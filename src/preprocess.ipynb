{
 "cells": [
  {
   "cell_type": "markdown",
   "metadata": {},
   "source": [
    "**Preprocess the data**"
   ]
  },
  {
   "cell_type": "code",
   "execution_count": 10,
   "metadata": {},
   "outputs": [
    {
     "name": "stdout",
     "output_type": "stream",
     "text": [
      "    IDLink                                             Title  \\\n",
      "0  99248.0  Obama Lays Wreath at Arlington National Cemetery   \n",
      "1  10423.0       A Look at the Health of the Chinese Economy   \n",
      "\n",
      "                                            Headline     Source    Topic  \\\n",
      "0  Obama Lays Wreath at Arlington National Cemete...  USA TODAY    obama   \n",
      "1  Tim Haywood, investment director business-unit...  Bloomberg  economy   \n",
      "\n",
      "           PublishDate  SentimentTitle  SentimentHeadline  Facebook  \\\n",
      "0  2002-04-02 00:00:00        0.000000          -0.053300        -1   \n",
      "1  2008-09-20 00:00:00        0.208333          -0.156386        -1   \n",
      "\n",
      "   GooglePlus  LinkedIn  \n",
      "0          -1        -1  \n",
      "1          -1        -1  \n"
     ]
    }
   ],
   "source": [
    "import pandas as pd\n",
    "\n",
    "# data1030-student-f19/data1030_project/data/News_Final.csv\n",
    "df = pd.read_csv('../data/News_Final.csv')\n",
    "print(df.head(2))"
   ]
  },
  {
   "cell_type": "code",
   "execution_count": 12,
   "metadata": {},
   "outputs": [
    {
     "name": "stdout",
     "output_type": "stream",
     "text": [
      "    IDLink    Topic          PublishDate  SentimentTitle  SentimentHeadline  \\\n",
      "0  99248.0    obama  2002-04-02 00:00:00        0.000000          -0.053300   \n",
      "1  10423.0  economy  2008-09-20 00:00:00        0.208333          -0.156386   \n",
      "\n",
      "   Facebook  GooglePlus  LinkedIn  \n",
      "0        -1          -1        -1  \n",
      "1        -1          -1        -1  \n"
     ]
    }
   ],
   "source": [
    "df = df.drop(columns=['Title', 'Headline', 'Source'])\n",
    "print(df.head(2))"
   ]
  },
  {
   "cell_type": "code",
   "execution_count": 60,
   "metadata": {},
   "outputs": [
    {
     "name": "stdout",
     "output_type": "stream",
     "text": [
      "feature names: ['x0_economy' 'x0_microsoft' 'x0_obama' 'x0_palestine']\n",
      "[[0. 0. 1. 0.]\n",
      " [1. 0. 0. 0.]\n",
      " [1. 0. 0. 0.]\n",
      " ...\n",
      " [0. 0. 0. 1.]\n",
      " [0. 0. 0. 1.]\n",
      " [0. 1. 0. 0.]]\n",
      "[0. 1. 1. ... 0. 0. 0.]\n"
     ]
    }
   ],
   "source": [
    "from sklearn.preprocessing import OneHotEncoder\n",
    "df_topic = df[['Topic']]\n",
    "#print(df_topic)\n",
    "\n",
    "enc = OneHotEncoder(sparse=False) \n",
    "enc.fit(df_topic)\n",
    "#print('categories:',enc.categories_)\n",
    "\n",
    "enc_label = enc.get_feature_names()\n",
    "print('feature names:',enc_label)\n",
    "df_topic_ohe = enc.transform(df_topic)\n",
    "print(df_topic_ohe)\n",
    "\n",
    "print(df_topic_ohe[:,0])"
   ]
  },
  {
   "cell_type": "code",
   "execution_count": 62,
   "metadata": {},
   "outputs": [
    {
     "name": "stdout",
     "output_type": "stream",
     "text": [
      "         IDLink          PublishDate  SentimentTitle  SentimentHeadline  \\\n",
      "0       99248.0  2002-04-02 00:00:00        0.000000          -0.053300   \n",
      "1       10423.0  2008-09-20 00:00:00        0.208333          -0.156386   \n",
      "2       18828.0  2012-01-28 00:00:00       -0.425210           0.139754   \n",
      "3       27788.0  2015-03-01 00:06:00        0.000000           0.026064   \n",
      "4       27789.0  2015-03-01 00:11:00        0.000000           0.141084   \n",
      "...         ...                  ...             ...                ...   \n",
      "93234   61851.0  2016-07-07 15:31:05        0.104284           0.044943   \n",
      "93235   61865.0  2016-07-07 15:31:10        0.072194           0.000000   \n",
      "93236  104793.0  2016-07-07 15:38:26        0.291667          -0.139754   \n",
      "93237  104794.0  2016-07-07 15:59:22        0.121534           0.092313   \n",
      "93238   61870.0  2016-07-07 16:16:11        0.000000           0.054554   \n",
      "\n",
      "       Facebook  GooglePlus  LinkedIn  x0_economy  x0_microsoft  x0_obama  \\\n",
      "0            -1          -1        -1         0.0           0.0       1.0   \n",
      "1            -1          -1        -1         1.0           0.0       0.0   \n",
      "2            -1          -1        -1         1.0           0.0       0.0   \n",
      "3            -1          -1        -1         1.0           0.0       0.0   \n",
      "4            -1          -1        -1         1.0           0.0       0.0   \n",
      "...         ...         ...       ...         ...           ...       ...   \n",
      "93234        -1           3         5         1.0           0.0       0.0   \n",
      "93235        -1           0         1         1.0           0.0       0.0   \n",
      "93236         5           1         0         0.0           0.0       0.0   \n",
      "93237         0           0         0         0.0           0.0       0.0   \n",
      "93238        -1           1         0         0.0           1.0       0.0   \n",
      "\n",
      "       x0_palestine  \n",
      "0               0.0  \n",
      "1               0.0  \n",
      "2               0.0  \n",
      "3               0.0  \n",
      "4               0.0  \n",
      "...             ...  \n",
      "93234           0.0  \n",
      "93235           0.0  \n",
      "93236           1.0  \n",
      "93237           1.0  \n",
      "93238           0.0  \n",
      "\n",
      "[93239 rows x 11 columns]\n"
     ]
    }
   ],
   "source": [
    "for i in range(len(enc_label)):\n",
    "    df[enc_label[i]] = df_topic_ohe[:,i]\n",
    "df = df.drop(columns=['Topic'])\n",
    "print(df)"
   ]
  },
  {
   "cell_type": "code",
   "execution_count": 71,
   "metadata": {},
   "outputs": [],
   "source": [
    "export_csv = df.to_csv ('../data/News_pro.csv', index = None, header=True) "
   ]
  },
  {
   "cell_type": "code",
   "execution_count": null,
   "metadata": {},
   "outputs": [],
   "source": []
  }
 ],
 "metadata": {
  "kernelspec": {
   "display_name": "Python 3",
   "language": "python",
   "name": "python3"
  },
  "language_info": {
   "codemirror_mode": {
    "name": "ipython",
    "version": 3
   },
   "file_extension": ".py",
   "mimetype": "text/x-python",
   "name": "python",
   "nbconvert_exporter": "python",
   "pygments_lexer": "ipython3",
   "version": "3.7.3"
  }
 },
 "nbformat": 4,
 "nbformat_minor": 4
}
