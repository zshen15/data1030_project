{
 "cells": [
  {
   "cell_type": "markdown",
   "metadata": {},
   "source": [
    "**Preprocess the data**"
   ]
  },
  {
   "cell_type": "code",
   "execution_count": 1,
   "metadata": {},
   "outputs": [
    {
     "name": "stdout",
     "output_type": "stream",
     "text": [
      "    IDLink                                             Title  \\\n",
      "0  99248.0  Obama Lays Wreath at Arlington National Cemetery   \n",
      "1  10423.0       A Look at the Health of the Chinese Economy   \n",
      "\n",
      "                                            Headline     Source    Topic  \\\n",
      "0  Obama Lays Wreath at Arlington National Cemete...  USA TODAY    obama   \n",
      "1  Tim Haywood, investment director business-unit...  Bloomberg  economy   \n",
      "\n",
      "           PublishDate  SentimentTitle  SentimentHeadline  Facebook  \\\n",
      "0  2002-04-02 00:00:00        0.000000          -0.053300        -1   \n",
      "1  2008-09-20 00:00:00        0.208333          -0.156386        -1   \n",
      "\n",
      "   GooglePlus  LinkedIn  \n",
      "0          -1        -1  \n",
      "1          -1        -1  \n"
     ]
    }
   ],
   "source": [
    "import pandas as pd\n",
    "from datetime import datetime\n",
    "import time\n",
    "\n",
    "# data1030-student-f19/data1030_project/data/News_Final.csv\n",
    "df = pd.read_csv('../data/News_Final.csv')\n",
    "print(df.head(2))"
   ]
  },
  {
   "cell_type": "code",
   "execution_count": 2,
   "metadata": {},
   "outputs": [
    {
     "name": "stdout",
     "output_type": "stream",
     "text": [
      "    IDLink    Topic          PublishDate  SentimentTitle  SentimentHeadline  \\\n",
      "0  99248.0    obama  2002-04-02 00:00:00        0.000000          -0.053300   \n",
      "1  10423.0  economy  2008-09-20 00:00:00        0.208333          -0.156386   \n",
      "\n",
      "   Facebook  GooglePlus  LinkedIn  \n",
      "0        -1          -1        -1  \n",
      "1        -1          -1        -1  \n"
     ]
    }
   ],
   "source": [
    "df = df.drop(columns=['Title', 'Headline', 'Source'])\n",
    "print(df.head(2))"
   ]
  },
  {
   "cell_type": "code",
   "execution_count": 3,
   "metadata": {},
   "outputs": [],
   "source": [
    "from sklearn.preprocessing import MinMaxScaler\n",
    "\n",
    "# change to unix time\n",
    "df_time = df['PublishDate']\n",
    "x = df_time.values\n",
    "unixTime = [time.mktime(pd.Timestamp(y).timetuple()) for y in x]\n",
    "df['PublishDate'] = unixTime\n",
    "\n",
    "# minmaxscaler\n",
    "df_time = df[['PublishDate']]\n",
    "\n",
    "scaler = MinMaxScaler()\n",
    "scaler.fit(df_time)\n",
    "df_time_maxmin = scaler.transform(df_time)\n",
    "df['PublishDate'] = df_time_maxmin"
   ]
  },
  {
   "cell_type": "code",
   "execution_count": 4,
   "metadata": {},
   "outputs": [],
   "source": [
    "df_plat = df[['Facebook','GooglePlus','LinkedIn']]\n",
    "\n",
    "scaler = MinMaxScaler()\n",
    "scaler.fit(df_plat)\n",
    "df_plat_maxmin = scaler.transform(df_plat)\n",
    "\n",
    "platName = [x+str('_pro') for x in ['Facebook','GooglePlus','LinkedIn']]\n",
    "\n",
    "for i in range(len(platName)):\n",
    "    df[platName[i]] = df_plat_maxmin[:,i]"
   ]
  },
  {
   "cell_type": "code",
   "execution_count": 5,
   "metadata": {},
   "outputs": [
    {
     "name": "stdout",
     "output_type": "stream",
     "text": [
      "feature names: ['x0_economy' 'x0_microsoft' 'x0_obama' 'x0_palestine']\n",
      "[[0. 0. 1. 0.]\n",
      " [1. 0. 0. 0.]\n",
      " [1. 0. 0. 0.]\n",
      " ...\n",
      " [0. 0. 0. 1.]\n",
      " [0. 0. 0. 1.]\n",
      " [0. 1. 0. 0.]]\n",
      "[0. 1. 1. ... 0. 0. 0.]\n"
     ]
    }
   ],
   "source": [
    "from sklearn.preprocessing import OneHotEncoder\n",
    "df_topic = df[['Topic']]\n",
    "#print(df_topic)\n",
    "\n",
    "enc = OneHotEncoder(sparse=False) \n",
    "enc.fit(df_topic)\n",
    "#print('categories:',enc.categories_)\n",
    "\n",
    "enc_label = enc.get_feature_names()\n",
    "print('feature names:',enc_label)\n",
    "df_topic_ohe = enc.transform(df_topic)\n",
    "print(df_topic_ohe)\n",
    "\n",
    "print(df_topic_ohe[:,0])"
   ]
  },
  {
   "cell_type": "code",
   "execution_count": 6,
   "metadata": {},
   "outputs": [],
   "source": [
    "for i in range(len(enc_label)):\n",
    "    df[enc_label[i]] = df_topic_ohe[:,i]"
   ]
  },
  {
   "cell_type": "code",
   "execution_count": 15,
   "metadata": {},
   "outputs": [],
   "source": [
    "# target var.\n",
    "# if there are two or more -1:\n",
    "# target = 0\n",
    "# else, target = the platform with the highest popularity:\n",
    "# F = 1; G = 2; L = 3\n",
    "# if the news has been posted on all three platform but all three platforms has zero popularity:\n",
    "# target = 4\n",
    "# all the other samples, f = g > l etc.:\n",
    "# target = 5\n",
    "\n",
    "t = []\n",
    "for i in range(df.shape[0]):\n",
    "    f = df['Facebook'].values[i]\n",
    "    g = df['GooglePlus'].values[i]\n",
    "    l = df['LinkedIn'].values[i]\n",
    "    if sum([(f == -1), (g == -1), (l == -1)]) > 1:\n",
    "        t.append(0) # 5745\n",
    "    elif f > g and f > l:\n",
    "        t.append(1) # 53721\n",
    "    elif g > f and g > l:\n",
    "        t.append(2) # 2297\n",
    "    elif l > f and l > g:\n",
    "        t.append(3) # 12105\n",
    "    elif f == 0 and f == g and g == l:\n",
    "        t.append(4) # 14875\n",
    "    else:\n",
    "        t.append(5) # 4496\n",
    "df['BestPlat'] = t"
   ]
  },
  {
   "cell_type": "code",
   "execution_count": 16,
   "metadata": {},
   "outputs": [
    {
     "data": {
      "text/html": [
       "<div>\n",
       "<style scoped>\n",
       "    .dataframe tbody tr th:only-of-type {\n",
       "        vertical-align: middle;\n",
       "    }\n",
       "\n",
       "    .dataframe tbody tr th {\n",
       "        vertical-align: top;\n",
       "    }\n",
       "\n",
       "    .dataframe thead th {\n",
       "        text-align: right;\n",
       "    }\n",
       "</style>\n",
       "<table border=\"1\" class=\"dataframe\">\n",
       "  <thead>\n",
       "    <tr style=\"text-align: right;\">\n",
       "      <th></th>\n",
       "      <th>IDLink</th>\n",
       "      <th>Topic</th>\n",
       "      <th>PublishDate</th>\n",
       "      <th>SentimentTitle</th>\n",
       "      <th>SentimentHeadline</th>\n",
       "      <th>Facebook</th>\n",
       "      <th>GooglePlus</th>\n",
       "      <th>LinkedIn</th>\n",
       "      <th>Facebook_pro</th>\n",
       "      <th>GooglePlus_pro</th>\n",
       "      <th>LinkedIn_pro</th>\n",
       "      <th>x0_economy</th>\n",
       "      <th>x0_microsoft</th>\n",
       "      <th>x0_obama</th>\n",
       "      <th>x0_palestine</th>\n",
       "      <th>BestPlat</th>\n",
       "    </tr>\n",
       "  </thead>\n",
       "  <tbody>\n",
       "    <tr>\n",
       "      <th>0</th>\n",
       "      <td>99248.0</td>\n",
       "      <td>obama</td>\n",
       "      <td>0.000000</td>\n",
       "      <td>0.000000</td>\n",
       "      <td>-0.053300</td>\n",
       "      <td>-1</td>\n",
       "      <td>-1</td>\n",
       "      <td>-1</td>\n",
       "      <td>0.0</td>\n",
       "      <td>0.0</td>\n",
       "      <td>0.0</td>\n",
       "      <td>0.0</td>\n",
       "      <td>0.0</td>\n",
       "      <td>1.0</td>\n",
       "      <td>0.0</td>\n",
       "      <td>0</td>\n",
       "    </tr>\n",
       "    <tr>\n",
       "      <th>1</th>\n",
       "      <td>10423.0</td>\n",
       "      <td>economy</td>\n",
       "      <td>0.453492</td>\n",
       "      <td>0.208333</td>\n",
       "      <td>-0.156386</td>\n",
       "      <td>-1</td>\n",
       "      <td>-1</td>\n",
       "      <td>-1</td>\n",
       "      <td>0.0</td>\n",
       "      <td>0.0</td>\n",
       "      <td>0.0</td>\n",
       "      <td>1.0</td>\n",
       "      <td>0.0</td>\n",
       "      <td>0.0</td>\n",
       "      <td>0.0</td>\n",
       "      <td>0</td>\n",
       "    </tr>\n",
       "  </tbody>\n",
       "</table>\n",
       "</div>"
      ],
      "text/plain": [
       "    IDLink    Topic  PublishDate  SentimentTitle  SentimentHeadline  Facebook  \\\n",
       "0  99248.0    obama     0.000000        0.000000          -0.053300        -1   \n",
       "1  10423.0  economy     0.453492        0.208333          -0.156386        -1   \n",
       "\n",
       "   GooglePlus  LinkedIn  Facebook_pro  GooglePlus_pro  LinkedIn_pro  \\\n",
       "0          -1        -1           0.0             0.0           0.0   \n",
       "1          -1        -1           0.0             0.0           0.0   \n",
       "\n",
       "   x0_economy  x0_microsoft  x0_obama  x0_palestine  BestPlat  \n",
       "0         0.0           0.0       1.0           0.0         0  \n",
       "1         1.0           0.0       0.0           0.0         0  "
      ]
     },
     "execution_count": 16,
     "metadata": {},
     "output_type": "execute_result"
    }
   ],
   "source": [
    "df.head(2)"
   ]
  },
  {
   "cell_type": "code",
   "execution_count": 17,
   "metadata": {},
   "outputs": [],
   "source": [
    "export_csv = df.to_csv ('../data/News_pro.csv', index = None, header=True) "
   ]
  },
  {
   "cell_type": "code",
   "execution_count": null,
   "metadata": {},
   "outputs": [],
   "source": []
  }
 ],
 "metadata": {
  "kernelspec": {
   "display_name": "Python 3",
   "language": "python",
   "name": "python3"
  },
  "language_info": {
   "codemirror_mode": {
    "name": "ipython",
    "version": 3
   },
   "file_extension": ".py",
   "mimetype": "text/x-python",
   "name": "python",
   "nbconvert_exporter": "python",
   "pygments_lexer": "ipython3",
   "version": "3.7.3"
  }
 },
 "nbformat": 4,
 "nbformat_minor": 4
}
